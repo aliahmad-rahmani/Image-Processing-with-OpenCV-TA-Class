{
 "cells": [
  {
   "cell_type": "code",
   "execution_count": 1,
   "metadata": {
    "slideshow": {
     "slide_type": "skip"
    }
   },
   "outputs": [],
   "source": [
    "import cv2\n",
    "import matplotlib.pyplot as plt"
   ]
  },
  {
   "cell_type": "code",
   "execution_count": 2,
   "metadata": {},
   "outputs": [],
   "source": [
    "video_input_file_name = \"videos/slow_traffic_small.mp4\""
   ]
  },
  {
   "cell_type": "code",
   "execution_count": 3,
   "metadata": {},
   "outputs": [],
   "source": [
    "# Set up tracker\n",
    "tracker_types = ['BOOSTING', 'MIL','KCF', 'CSRT', 'TLD', 'MEDIANFLOW', 'GOTURN','MOSSE']\n",
    "\n",
    "# Change the index to change the tracker type\n",
    "tracker_type = tracker_types[3]\n",
    "\n",
    "if tracker_type == 'BOOSTING':\n",
    "    tracker = cv2.legacy_TrackerBoosting.create()\n",
    "elif tracker_type == 'MIL':\n",
    "    tracker = cv2.TrackerMIL_create()\n",
    "elif tracker_type == 'KCF':\n",
    "    tracker = cv2.TrackerKCF_create()\n",
    "elif tracker_type == 'CSRT':\n",
    "    tracker = cv2.legacy_TrackerCSRT.create()\n",
    "elif tracker_type == 'TLD':\n",
    "    tracker = cv2.legacy_TrackerTLD.create()\n",
    "elif tracker_type == 'MEDIANFLOW':\n",
    "    tracker = cv2.legacy_TrackerMedianFlow.create()\n",
    "elif tracker_type == 'GOTURN':\n",
    "    tracker = cv2.TrackerGOTURN_create()   \n",
    "else:\n",
    "    tracker = cv2.legacy_TrackerMOSSE.create()"
   ]
  },
  {
   "cell_type": "code",
   "execution_count": null,
   "metadata": {},
   "outputs": [],
   "source": [
    "cap = cv2.VideoCapture(video_input_file_name)\n",
    "\n",
    "# Read first frame\n",
    "success, frame = cap.read()\n",
    "\n",
    "\n",
    "bboxes = cv2.selectROIs('MultiTracker', frame)\n",
    "\n",
    "print(bboxes)\n",
    "cv2.destroyAllWindows()\n",
    "\n",
    "frame_draw = frame.copy()\n",
    "for box in bboxes:\n",
    "    p1 = (int(box[0]), int(box[1]))\n",
    "    p2 = (int(box[0] + box[2]), int(box[1] + box[3]))\n",
    "    cv2.rectangle(frame_draw, p1, p2, (0,0,255), 2, 1)\n",
    "plt.imshow(frame_draw[...,::-1])"
   ]
  },
  {
   "cell_type": "code",
   "execution_count": 5,
   "metadata": {},
   "outputs": [],
   "source": [
    "#multiTracker = cv2.MultiTracker_create()\n",
    "multiTracker = cv2.legacy.MultiTracker_create()\n",
    "\n",
    "# Initialize MultiTracker \n",
    "for bbox in bboxes:\n",
    "    multiTracker.add(tracker, frame, bbox)"
   ]
  },
  {
   "cell_type": "code",
   "execution_count": 6,
   "metadata": {},
   "outputs": [],
   "source": [
    "# Process video and track objects\n",
    "while cap.isOpened():\n",
    "    success, frame = cap.read()\n",
    "    if not success:\n",
    "        break\n",
    "\n",
    "    # get updated location of objects in subsequent frames\n",
    "    success, boxes = multiTracker.update(frame)\n",
    "\n",
    "    # draw tracked objects\n",
    "    for box in boxes:\n",
    "        p1 = (int(box[0]), int(box[1]))\n",
    "        p2 = (int(box[0] + box[2]), int(box[1] + box[3]))\n",
    "        cv2.rectangle(frame, p1, p2, (0,0,255), 2, 1)\n",
    "\n",
    "    # show frame\n",
    "    cv2.imshow('MultiTracker', frame)\n",
    "\n",
    "\n",
    "    # quit on ESC button\n",
    "    if cv2.waitKey(1) & 0xFF == 27:  # Esc pressed\n",
    "        break\n",
    "\n",
    "cv2.destroyAllWindows()\n",
    "cap.release()"
   ]
  }
 ],
 "metadata": {
  "celltoolbar": "Slideshow",
  "kernelspec": {
   "display_name": "Python 3 (ipykernel)",
   "language": "python",
   "name": "python3"
  },
  "language_info": {
   "codemirror_mode": {
    "name": "ipython",
    "version": 3
   },
   "file_extension": ".py",
   "mimetype": "text/x-python",
   "name": "python",
   "nbconvert_exporter": "python",
   "pygments_lexer": "ipython3",
   "version": "3.8.10"
  }
 },
 "nbformat": 4,
 "nbformat_minor": 4
}
